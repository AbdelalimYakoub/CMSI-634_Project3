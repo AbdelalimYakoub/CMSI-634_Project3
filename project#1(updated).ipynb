{
 "cells": [
  {
   "cell_type": "code",
   "execution_count": 1,
   "metadata": {},
   "outputs": [
    {
     "name": "stdout",
     "output_type": "stream",
     "text": [
      "Tensorflow Version: 2.0.0\n"
     ]
    }
   ],
   "source": [
    "# Imports\n",
    "import tensorflow as tf\n",
    "import numpy as np\n",
    "import pandas as pd\n",
    "import matplotlib.pyplot as plt\n",
    "import seaborn as sns\n",
    "from sklearn import preprocessing\n",
    "print \"Tensorflow Version:\", tf.__version__"
   ]
  },
  {
   "cell_type": "code",
   "execution_count": 2,
   "metadata": {},
   "outputs": [],
   "source": [
    "# Build zipcode to income dictionary\n",
    "zip_inc = pd.read_excel('zip_to_income.xlsx', header=None)\n",
    "\n",
    "zipList = zip_inc[0].get_values().tolist()\n",
    "incList = zip_inc[1].get_values().tolist()\n",
    "\n",
    "zip_to_income = dict()\n",
    "for i,j in zip(zipList, incList):\n",
    "    zip_to_income[i] = j"
   ]
  },
  {
   "cell_type": "code",
   "execution_count": 3,
   "metadata": {},
   "outputs": [],
   "source": [
    "# Read data\n",
    "data = pd.read_excel('resd_data_1.xlsx', header=None).values"
   ]
  },
  {
   "cell_type": "code",
   "execution_count": 4,
   "metadata": {},
   "outputs": [],
   "source": [
    "# Data Filtering\n",
    "badIndex = []\n",
    "cols = data.shape[1]\n",
    "\n",
    "# Change Zip Code to Avg. Income \n",
    "# Remove invalid Zip Code's\n",
    "for count, zipCode in enumerate(data[:, cols - 2]):\n",
    "    if zipCode in zip_to_income.keys():\n",
    "        data[count, cols - 2] = zip_to_income[zipCode]\n",
    "    else:\n",
    "        badIndex.append(count)\n",
    "    \n",
    "# Delete and reset bad index\n",
    "# Update columns count\n",
    "data = np.delete(data, badIndex, 0)\n",
    "badIndex = []\n",
    "\n",
    "# Remove entries with with no listed price (<= 1000)\n",
    "for count, price in enumerate(data[:, cols - 1]):\n",
    "    if price <= 1000:\n",
    "        badIndex.append(count)\n",
    "    \n",
    "# Delete and reset bad index\n",
    "# Update columns count\n",
    "data = np.delete(data, badIndex, 0)\n",
    "badIndex = []\n",
    "\n",
    "\n",
    "# Remove entries which are out of margin\n",
    "for count, (sqft, lotsqft, year, beds, baths, stories, income) in enumerate(zip(data[:, 0], data[:, 1], data[:, 2], data[:, 3], data[:, 4], data[:, 5], data[:, 6])):\n",
    "      \n",
    "    if sqft < 1000 or sqft > 10000:\n",
    "        badIndex.append(count)\n",
    "    elif lotsqft < 0 or lotsqft > 50000:\n",
    "        badIndex.append(count)\n",
    "    elif year < 1940:\n",
    "        badIndex.append(count)\n",
    "    elif beds < 1 or beds > 5:\n",
    "        badIndex.append(count)\n",
    "    elif baths < 1 or baths > 6:\n",
    "        badIndex.append(count)\n",
    "    elif stories > 3: \n",
    "        badIndex.append(count)\n",
    "    elif income > 120000:\n",
    "        badIndex.append(count)\n",
    "        \n",
    "# Delete and reset bad index\n",
    "# Update columns count\n",
    "# train_data = np.delete(train_data, badIndex, 0)\n",
    "# train_targets = np.delete(train_targets, badIndex, 0)\n",
    "data = np.delete(data, badIndex, 0)\n",
    "badIndex = []"
   ]
  },
  {
   "cell_type": "code",
   "execution_count": 5,
   "metadata": {},
   "outputs": [],
   "source": [
    "# Split Data\n",
    "n_train = int(0.9 * data.shape[0])\n",
    "(train_data, train_targets) = data[0:n_train, 0:cols - 1], data[0:n_train, cols - 1]\n",
    "(test_data,  test_targets)  = data[n_train::, 0:cols - 1], data[n_train::, cols - 1]"
   ]
  },
  {
   "cell_type": "code",
   "execution_count": 6,
   "metadata": {},
   "outputs": [
    {
     "data": {
      "text/plain": [
       "(5795, 7)"
      ]
     },
     "execution_count": 6,
     "metadata": {},
     "output_type": "execute_result"
    }
   ],
   "source": [
    "train_data.shape"
   ]
  },
  {
   "cell_type": "code",
   "execution_count": 7,
   "metadata": {},
   "outputs": [
    {
     "data": {
      "text/plain": [
       "(644, 7)"
      ]
     },
     "execution_count": 7,
     "metadata": {},
     "output_type": "execute_result"
    }
   ],
   "source": [
    "test_data.shape"
   ]
  },
  {
   "cell_type": "code",
   "execution_count": 16,
   "metadata": {},
   "outputs": [],
   "source": [
    "# Normalizing the data\n",
    "mean = train_data.mean(axis=0)\n",
    "train_data = train_data - mean\n",
    "test_data  = test_data - mean\n",
    "\n",
    "std = train_data.std(axis=0)\n",
    "train_data /= std\n",
    "test_data /= std"
   ]
  },
  {
   "cell_type": "code",
   "execution_count": 17,
   "metadata": {},
   "outputs": [],
   "source": [
    "# Building the model network\n",
    "def build_model():\n",
    "    model = tf.keras.Sequential()\n",
    "    model.add(tf.keras.layers.Dense(256, activation='relu', input_shape=(train_data.shape[1],)))\n",
    "    model.add(tf.keras.layers.Dense(128, activation='relu'))\n",
    "    model.add(tf.keras.layers.Dense(1))\n",
    "    model.compile(optimizer='rmsprop', loss='mse', metrics=['mae'])\n",
    "    return model"
   ]
  },
  {
   "cell_type": "code",
   "execution_count": 18,
   "metadata": {},
   "outputs": [
    {
     "name": "stdout",
     "output_type": "stream",
     "text": [
      "\r",
      "644/1 [========================================================================================================================================================================================================================================================================================================================================================================================================================================================================================================================================================================================================================================================================================================================================================================================================================================================================================================================================================================================================================================================================================================================================================================================================================================================================================================================================================================================================================================================================================================================================================================================================================================================================================================================================================================================================================================================================================================================================================================================================================================================================================================================================================================================================================================================================================================================================================================================================================================================================================================================================================================================================================================================================================================================================================================================================================================================================================================================================================================================================================================================================================================================================================================================================================================================================================================================================================================================================================================================================================================================================================================================================================================================================================================================================================================================================================================================================================================================================================================================================================================================================================================================================================================================================================================================================================================================================================================================================================================================================================================================================================================================================================================================================================================================================================================================================================================================================================================================================================================================================================================================================================================================================================================================================================================================================================================================================================================================================================================================================================================================================================================================================================================================================================================================================================================================================================================================================================================================================================================================================================================================================================================================================================================================================================================================================================================================================================================================================================================================================================================================================================================================================================================================================================================================================================================================================================================================================================================================================================================================================================================================================================================================================================================================================================================================================================================================================================================================================================================================================================================================================================================================================================================================================================================================================================================================================================================================================================================================================================================================================================================================================================================================================================================================================================================================================================================================================================================================================================================================================================================================================================================================================================================================================================================================================================================================================================================================================================================================================================================================================================================================================================================================================================================================================================================================================================================================================================================================================================================================================================================================================================================================================================================================================================================================================================================================================================================================================================================================================================================================================================================================================================================================================================================================================================================================================================================================================================================================================================================================================================================================================================================================================================================================================================================================================================================================================================================================================================================================================================================================================================================================================================================================================================================================================================================================================================================================================================================================================================================================================================================================================================================================================================================================================================================================================================================================================================================================================================================================================================================================================================================================================================================================================================================================================================================================================================================================================================================================================================================================================================================================================================================================================================================================================================================================================================================================================================================================================================================================================================================================================================================================================================================================================================================================================================================================================================================================================================================================================================================================================================================================================================================================================================================================================================================================================================================================================================================================================================================================================================================================================================================================================================================================================================================================================================================================================================================================================================================================================================================================================================================================================================================================================================================================================================================================================================================================================================================================================================================================================================================================================================================================================================================================================================================================================================================================================================================================================================================================================================================================================================================================================================================================================================================================================================================================================================================================================================================================================================================================================================================================================================================================================================================================================================================================================================================================================================================================================================================================================================================================================================================================================================================================================================================================================================================================================================================================================================================================================================================================================================================================================================================================================================================================================================================================================================================================================================================================================================================================================================================================================================================================================================================================================================================================================================================================================================================================================================================================================================================================================================================================================================================================================================================================================================================================================================================================================================================================================================================================================================================================================================================================================================================================================================================================================================================================================================================================================================================================================================================================================================================================================================================================================================================================================================================================================================================================================================================================================================================================================================================================================================================================================================================================================================================================================================================================================================================================================================================================================================================================================================================================================================================================================================================================] - 0s 308us/sample - loss: 310540554214.5590 - mae: 363947.7188\n"
     ]
    },
    {
     "name": "stdout",
     "output_type": "stream",
     "text": [
      "('Test MAE: ', 363947.72)\n"
     ]
    }
   ],
   "source": [
    "k = 4\n",
    "num_val_samples = len(train_data) // k\n",
    "num_epochs = 200\n",
    "num_batch = 16\n",
    "all_mae_histories_val = []\n",
    "all_mae_histories_train = []\n",
    "\n",
    "for i in range(k):\n",
    "    print('processing fold #', i)\n",
    "    val_data = train_data[i * num_val_samples: (i + 1) * num_val_samples]\n",
    "    val_targets = train_targets[i * num_val_samples: (i + 1) * num_val_samples]\n",
    "    \n",
    "    partial_train_data = np.concatenate(\n",
    "        [train_data[:i * num_val_samples],\n",
    "         train_data[(i + 1) * num_val_samples:]],\n",
    "        axis=0)\n",
    "    \n",
    "    partial_train_targets = np.concatenate(\n",
    "        [train_targets[:i * num_val_samples],\n",
    "         train_targets[(i + 1) * num_val_samples:]],\n",
    "        axis=0)\n",
    "    \n",
    "    model = build_model()\n",
    "    history = model.fit(partial_train_data, partial_train_targets,\n",
    "                        validation_data=(val_data, val_targets),\n",
    "                        epochs=num_epochs, batch_size=num_batch, verbose=0)\n",
    "    mae_history_val = history.history['val_mae']\n",
    "    mae_history_train = history.history['mae']\n",
    "    all_mae_histories_val.append(mae_history_val)\n",
    "    all_mae_histories_train.append(mae_history_train)\n",
    "    \n",
    "# Plot validation MAE    \n",
    "average_mae_history_val = [np.mean([x[i] for x in all_mae_histories_val]) for i in range(num_epochs)]\n",
    "plt.plot(range(1, len(average_mae_history_val) + 1), average_mae_history_val)\n",
    "plt.xlabel('Epochs')\n",
    "plt.ylabel('Validation MAE')\n",
    "plt.show()\n",
    "\n",
    "# Test model\n",
    "model = build_model()\n",
    "model.fit(train_data, train_targets, epochs=100, batch_size=16, verbose=0)\n",
    "test_mse_score, test_mae_score = model.evaluate(test_data, test_targets)\n",
    "print(\"Test MAE: \", test_mae_score)"
   ]
  },
  {
   "cell_type": "code",
   "execution_count": 10,
   "metadata": {},
   "outputs": [
    {
     "data": {
      "image/png": "[encoded data removed]",
      "text/plain": [
       "<Figure size 432x288 with 1 Axes>"
      ]
     },
     "metadata": {
      "needs_background": "light"
     },
     "output_type": "display_data"
    }
   ],
   "source": [
    "# Plot training MAE \n",
    "average_mae_history_train = [np.mean([x[i] for x in all_mae_histories_train]) for i in range(num_epochs)]\n",
    "plt.plot(range(1, len(average_mae_history_train) + 1), average_mae_history_train)\n",
    "plt.xlabel('Epochs')\n",
    "plt.ylabel('Training MAE')\n",
    "plt.show()"
   ]
  }
 ],
 "metadata": {
  "kernelspec": {
   "display_name": "Python 3",
   "language": "python",
   "name": "python3"
  },
  "language_info": {
   "codemirror_mode": {
    "name": "ipython",
    "version": 3
   },
   "file_extension": ".py",
   "mimetype": "text/x-python",
   "name": "python",
   "nbconvert_exporter": "python",
   "pygments_lexer": "ipython3",
   "version": "3.7.7"
  }
 },
 "nbformat": 4,
 "nbformat_minor": 2
}
