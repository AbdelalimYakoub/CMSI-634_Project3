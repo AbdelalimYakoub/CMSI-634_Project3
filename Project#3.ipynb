{
 "cells": [
  {
   "cell_type": "code",
   "execution_count": 1,
   "metadata": {},
   "outputs": [
    {
     "name": "stdout",
     "output_type": "stream",
     "text": [
      "Tensorflow Version: 2.0.0\n"
     ]
    }
   ],
   "source": [
    "# Imports\n",
    "import tensorflow as tf\n",
    "import numpy as np\n",
    "import pandas as pd\n",
    "import matplotlib.pyplot as plt\n",
    "import math\n",
    "from sklearn.model_selection import train_test_split\n",
    "\n",
    "print(\"Tensorflow Version:\", tf.__version__)"
   ]
  },
  {
   "cell_type": "code",
   "execution_count": 2,
   "metadata": {},
   "outputs": [],
   "source": [
    "# 1.1\n",
    "# Reading HDF5 files\n",
    "train_data   = pd.read_hdf(\"X_train.hdf\")\n",
    "train_labels = pd.read_hdf(\"y_train.hdf\")\n",
    "test_data    = pd.read_hdf(\"X_test.hdf\")\n",
    "test_labels  = pd.read_hdf(\"y_test.hdf\")"
   ]
  },
  {
   "cell_type": "code",
   "execution_count": 3,
   "metadata": {},
   "outputs": [
    {
     "name": "stdout",
     "output_type": "stream",
     "text": [
      "                          ABG Base excess (mEq/L)  ABG FiO2  ABG HCO3 (mEq/L)  \\\n",
      "encounterID absoluteTime                                                        \n",
      "8           0.000000                          NaN       NaN               NaN   \n",
      "            0.250000                          NaN       NaN               NaN   \n",
      "            0.500000                          NaN       NaN               NaN   \n",
      "            0.583333                          NaN       NaN               NaN   \n",
      "            0.750000                          NaN       NaN               NaN   \n",
      "...                                           ...       ...               ...   \n",
      "16259       87.000000                         NaN       NaN               NaN   \n",
      "            87.083336                         NaN       NaN               NaN   \n",
      "            87.666664                         NaN       NaN               NaN   \n",
      "            88.000000                         NaN       NaN               NaN   \n",
      "            89.000000                         NaN       NaN               NaN   \n",
      "\n",
      "                          ABG O2 sat (%)  ABG PCO2 (mmHg)  ABG PO2 (mmHg)  \\\n",
      "encounterID absoluteTime                                                    \n",
      "8           0.000000                 NaN              NaN             NaN   \n",
      "            0.250000                 NaN              NaN             NaN   \n",
      "            0.500000                 NaN              NaN             NaN   \n",
      "            0.583333                 NaN              NaN             NaN   \n",
      "            0.750000                 NaN              NaN             NaN   \n",
      "...                                  ...              ...             ...   \n",
      "16259       87.000000                NaN              NaN             NaN   \n",
      "            87.083336                NaN              NaN             NaN   \n",
      "            87.666664                NaN              NaN             NaN   \n",
      "            88.000000                NaN              NaN             NaN   \n",
      "            89.000000                NaN              NaN             NaN   \n",
      "\n",
      "                          ABG TCO2 (mEq/L)  ABG pH  ALT (SGPT) (units/L)  \\\n",
      "encounterID absoluteTime                                                   \n",
      "8           0.000000                   NaN     NaN                   NaN   \n",
      "            0.250000                   NaN     NaN                   NaN   \n",
      "            0.500000                   NaN     NaN                   NaN   \n",
      "            0.583333                   NaN     NaN                   NaN   \n",
      "            0.750000                   NaN     NaN                   NaN   \n",
      "...                                    ...     ...                   ...   \n",
      "16259       87.000000                  NaN     NaN                   NaN   \n",
      "            87.083336                  NaN     NaN                   NaN   \n",
      "            87.666664                  NaN     NaN                   NaN   \n",
      "            88.000000                  NaN     NaN                   NaN   \n",
      "            89.000000                  NaN     NaN                   NaN   \n",
      "\n",
      "                          AST (SGOT) (units/L)  ...  Vasopressin  Vecuronium  \\\n",
      "encounterID absoluteTime                        ...                            \n",
      "8           0.000000                       NaN  ...          NaN         NaN   \n",
      "            0.250000                       NaN  ...          NaN         NaN   \n",
      "            0.500000                       NaN  ...          NaN         NaN   \n",
      "            0.583333                       NaN  ...          NaN         NaN   \n",
      "            0.750000                       NaN  ...          NaN         NaN   \n",
      "...                                        ...  ...          ...         ...   \n",
      "16259       87.000000                      NaN  ...          NaN         NaN   \n",
      "            87.083336                      NaN  ...          NaN         NaN   \n",
      "            87.666664                      NaN  ...          NaN         NaN   \n",
      "            88.000000                      NaN  ...          NaN         NaN   \n",
      "            89.000000                      NaN  ...          NaN         NaN   \n",
      "\n",
      "                          Ventilator rate (bpm)  VerbalResponse  Vitamin E  \\\n",
      "encounterID absoluteTime                                                     \n",
      "8           0.000000                        NaN             NaN        NaN   \n",
      "            0.250000                        NaN             NaN        NaN   \n",
      "            0.500000                        NaN             NaN        NaN   \n",
      "            0.583333                        NaN             NaN        NaN   \n",
      "            0.750000                        NaN             5.0        NaN   \n",
      "...                                         ...             ...        ...   \n",
      "16259       87.000000                       NaN             NaN        NaN   \n",
      "            87.083336                       NaN             NaN        NaN   \n",
      "            87.666664                       NaN             NaN        NaN   \n",
      "            88.000000                       NaN             3.0        NaN   \n",
      "            89.000000                       NaN             NaN        NaN   \n",
      "\n",
      "                          Volume Tidal  Voriconazole  Weight  \\\n",
      "encounterID absoluteTime                                       \n",
      "8           0.000000               NaN           NaN    25.0   \n",
      "            0.250000               NaN           NaN     NaN   \n",
      "            0.500000               NaN           NaN     NaN   \n",
      "            0.583333               NaN           NaN     NaN   \n",
      "            0.750000               NaN           NaN     NaN   \n",
      "...                                ...           ...     ...   \n",
      "16259       87.000000              NaN           NaN     NaN   \n",
      "            87.083336              NaN           NaN     NaN   \n",
      "            87.666664              NaN           NaN     NaN   \n",
      "            88.000000              NaN           NaN     NaN   \n",
      "            89.000000              NaN           NaN     NaN   \n",
      "\n",
      "                          White blood cell count (K/uL)    deltat  \n",
      "encounterID absoluteTime                                           \n",
      "8           0.000000                                NaN  0.250000  \n",
      "            0.250000                                NaN  0.250000  \n",
      "            0.500000                                NaN  0.083333  \n",
      "            0.583333                                NaN  0.166667  \n",
      "            0.750000                                NaN  0.633333  \n",
      "...                                                 ...       ...  \n",
      "16259       87.000000                               NaN  0.083333  \n",
      "            87.083336                               NaN  0.583333  \n",
      "            87.666664                               NaN  0.333333  \n",
      "            88.000000                               NaN  1.000000  \n",
      "            89.000000                               NaN  0.000000  \n",
      "\n",
      "[1113529 rows x 265 columns]\n"
     ]
    }
   ],
   "source": [
    "print(train_data)"
   ]
  },
  {
   "cell_type": "code",
   "execution_count": 4,
   "metadata": {},
   "outputs": [
    {
     "name": "stdout",
     "output_type": "stream",
     "text": [
      "                          mortalityResponse\n",
      "encounterID absoluteTime                   \n",
      "8           0.000000                      1\n",
      "            0.250000                      1\n",
      "            0.500000                      1\n",
      "            0.583333                      1\n",
      "            0.750000                      1\n",
      "...                                     ...\n",
      "16259       87.000000                     1\n",
      "            87.083336                     1\n",
      "            87.666664                     1\n",
      "            88.000000                     1\n",
      "            89.000000                     1\n",
      "\n",
      "[1113529 rows x 1 columns]\n"
     ]
    }
   ],
   "source": [
    "print(train_labels)"
   ]
  },
  {
   "cell_type": "code",
   "execution_count": 5,
   "metadata": {},
   "outputs": [
    {
     "name": "stdout",
     "output_type": "stream",
     "text": [
      "                          ABG Base excess (mEq/L)  ABG FiO2  ABG HCO3 (mEq/L)  \\\n",
      "encounterID absoluteTime                                                        \n",
      "19          0.000000                          NaN       NaN               NaN   \n",
      "            0.016667                          NaN       NaN               NaN   \n",
      "            0.766667                          NaN       NaN               NaN   \n",
      "            0.983333                          NaN       NaN               NaN   \n",
      "            1.000000                          NaN       NaN               NaN   \n",
      "...                                           ...       ...               ...   \n",
      "16266       8.833333                          NaN       NaN               NaN   \n",
      "            9.666667                          NaN       NaN               NaN   \n",
      "            10.666667                         NaN       NaN               NaN   \n",
      "            11.250000                         NaN       NaN               NaN   \n",
      "            11.666667                         NaN       NaN               NaN   \n",
      "\n",
      "                          ABG O2 sat (%)  ABG PCO2 (mmHg)  ABG PO2 (mmHg)  \\\n",
      "encounterID absoluteTime                                                    \n",
      "19          0.000000                 NaN              NaN             NaN   \n",
      "            0.016667                 NaN              NaN             NaN   \n",
      "            0.766667                 NaN              NaN             NaN   \n",
      "            0.983333                 NaN              NaN             NaN   \n",
      "            1.000000                 NaN              NaN             NaN   \n",
      "...                                  ...              ...             ...   \n",
      "16266       8.833333                 NaN              NaN             NaN   \n",
      "            9.666667                 NaN              NaN             NaN   \n",
      "            10.666667                NaN              NaN             NaN   \n",
      "            11.250000                NaN              NaN             NaN   \n",
      "            11.666667                NaN              NaN             NaN   \n",
      "\n",
      "                          ABG TCO2 (mEq/L)  ABG pH  ALT (SGPT) (units/L)  \\\n",
      "encounterID absoluteTime                                                   \n",
      "19          0.000000                   NaN     NaN                   NaN   \n",
      "            0.016667                   NaN     NaN                   NaN   \n",
      "            0.766667                   NaN     NaN                   NaN   \n",
      "            0.983333                   NaN     NaN                   NaN   \n",
      "            1.000000                   NaN     NaN                   NaN   \n",
      "...                                    ...     ...                   ...   \n",
      "16266       8.833333                   NaN     NaN                   NaN   \n",
      "            9.666667                   NaN     NaN                   NaN   \n",
      "            10.666667                  NaN     NaN                   NaN   \n",
      "            11.250000                  NaN     NaN                   NaN   \n",
      "            11.666667                  NaN     NaN                   NaN   \n",
      "\n",
      "                          AST (SGOT) (units/L)  ...  Vasopressin  Vecuronium  \\\n",
      "encounterID absoluteTime                        ...                            \n",
      "19          0.000000                       NaN  ...          NaN         NaN   \n",
      "            0.016667                       NaN  ...          NaN         NaN   \n",
      "            0.766667                       NaN  ...          NaN         NaN   \n",
      "            0.983333                       NaN  ...          NaN         NaN   \n",
      "            1.000000                       NaN  ...          NaN         NaN   \n",
      "...                                        ...  ...          ...         ...   \n",
      "16266       8.833333                       NaN  ...          NaN         NaN   \n",
      "            9.666667                       NaN  ...          NaN         NaN   \n",
      "            10.666667                      NaN  ...          NaN         NaN   \n",
      "            11.250000                      NaN  ...          NaN         NaN   \n",
      "            11.666667                      NaN  ...          NaN         NaN   \n",
      "\n",
      "                          Ventilator rate (bpm)  VerbalResponse  Vitamin E  \\\n",
      "encounterID absoluteTime                                                     \n",
      "19          0.000000                        NaN             5.0        NaN   \n",
      "            0.016667                        NaN             NaN        NaN   \n",
      "            0.766667                        NaN             NaN        NaN   \n",
      "            0.983333                        NaN             NaN        NaN   \n",
      "            1.000000                        NaN             NaN        NaN   \n",
      "...                                         ...             ...        ...   \n",
      "16266       8.833333                        NaN             NaN        NaN   \n",
      "            9.666667                        NaN             NaN        NaN   \n",
      "            10.666667                       NaN             5.0        NaN   \n",
      "            11.250000                       NaN             NaN        NaN   \n",
      "            11.666667                       NaN             NaN        NaN   \n",
      "\n",
      "                          Volume Tidal  Voriconazole  Weight  \\\n",
      "encounterID absoluteTime                                       \n",
      "19          0.000000               NaN           NaN    40.7   \n",
      "            0.016667               NaN           NaN    40.7   \n",
      "            0.766667               NaN           NaN    40.7   \n",
      "            0.983333               NaN           NaN    40.7   \n",
      "            1.000000               NaN           NaN     NaN   \n",
      "...                                ...           ...     ...   \n",
      "16266       8.833333               NaN           NaN     NaN   \n",
      "            9.666667               NaN           NaN     NaN   \n",
      "            10.666667              NaN           NaN     NaN   \n",
      "            11.250000              NaN           NaN     NaN   \n",
      "            11.666667              NaN           NaN     NaN   \n",
      "\n",
      "                          White blood cell count (K/uL)    deltat  \n",
      "encounterID absoluteTime                                           \n",
      "19          0.000000                                NaN  0.016667  \n",
      "            0.016667                                NaN  0.750000  \n",
      "            0.766667                                NaN  0.216667  \n",
      "            0.983333                                NaN  0.016667  \n",
      "            1.000000                                NaN  1.000000  \n",
      "...                                                 ...       ...  \n",
      "16266       8.833333                                NaN  0.833333  \n",
      "            9.666667                                NaN  1.000000  \n",
      "            10.666667                               NaN  0.583333  \n",
      "            11.250000                               NaN  0.416667  \n",
      "            11.666667                               NaN  1.000000  \n",
      "\n",
      "[82251 rows x 265 columns]\n"
     ]
    }
   ],
   "source": [
    "print(test_data)"
   ]
  },
  {
   "cell_type": "code",
   "execution_count": 6,
   "metadata": {},
   "outputs": [
    {
     "name": "stdout",
     "output_type": "stream",
     "text": [
      "                          mortalityResponse\n",
      "encounterID absoluteTime                   \n",
      "19          0.000000                      1\n",
      "            0.016667                      1\n",
      "            0.766667                      1\n",
      "            0.983333                      1\n",
      "            1.000000                      1\n",
      "...                                     ...\n",
      "16266       8.833333                      1\n",
      "            9.666667                      1\n",
      "            10.666667                     1\n",
      "            11.250000                     1\n",
      "            11.666667                     1\n",
      "\n",
      "[82251 rows x 1 columns]\n"
     ]
    }
   ],
   "source": [
    "print(test_labels)"
   ]
  },
  {
   "cell_type": "code",
   "execution_count": 7,
   "metadata": {},
   "outputs": [
    {
     "name": "stdout",
     "output_type": "stream",
     "text": [
      "Number of patient encounters in training set = 5000\n",
      "Number of timestamps measured in total = 1113529\n",
      "Number of types of measurements documented = 265\n"
     ]
    }
   ],
   "source": [
    "# 1.2\n",
    "encounters = set()\n",
    "for i in range(train_data.index.shape[0]):\n",
    "    encounters.add(train_data.index.values[i][0])\n",
    "len(encounters)\n",
    "print(\"Number of patient encounters in training set =\", len(encounters))\n",
    "print(\"Number of timestamps measured in total =\", train_data.index.shape[0])\n",
    "print(\"Number of types of measurements documented =\", train_data.columns.shape[0])"
   ]
  },
  {
   "cell_type": "code",
   "execution_count": 8,
   "metadata": {},
   "outputs": [
    {
     "data": {
      "image/png": "[encoded data removed]",
      "text/plain": [
       "<Figure size 1440x360 with 1 Axes>"
      ]
     },
     "metadata": {
      "needs_background": "light"
     },
     "output_type": "display_data"
    }
   ],
   "source": [
    "# 1.3\n",
    "encounterStampMap = dict()\n",
    "for i in train_data.index:\n",
    "    if i[0] not in encounterStampMap.keys():\n",
    "        encounterStampMap[i[0]] = 1\n",
    "    else:\n",
    "        encounterStampMap[i[0]] += 1\n",
    "        \n",
    "# Plotting histogram\n",
    "fig = plt.figure(figsize=(20, 5))\n",
    "fig.suptitle('Number of Timestamps per Encounter', fontsize=20)\n",
    "plt.bar(encounterStampMap.keys(), encounterStampMap.values(), width=30)\n",
    "plt.xlabel(\"Encounter ID\", fontsize=15)\n",
    "plt.ylabel(\"# of Timestamps\", fontsize=15)\n",
    "plt.show()"
   ]
  },
  {
   "cell_type": "code",
   "execution_count": 9,
   "metadata": {},
   "outputs": [],
   "source": [
    "# 1.4\n",
    "# Normalizing the data\n",
    "mean = train_data.values.mean(axis=0)\n",
    "std = train_data.values.std(axis=0)\n",
    "\n",
    "norm_train_data = train_data.values - mean\n",
    "norm_test_data  = test_data.values - mean\n",
    "\n",
    "norm_train_data /= std\n",
    "norm_test_data /= std"
   ]
  },
  {
   "cell_type": "code",
   "execution_count": 10,
   "metadata": {},
   "outputs": [],
   "source": [
    "# 1.5 (HORIZONTAL FORWARD FILL)\n",
    "encounterTracker = 0\n",
    "# Forward filling training set\n",
    "for measurement in norm_train_data:\n",
    "    currentValue = 0\n",
    "    for index, value in enumerate(measurement):\n",
    "        if math.isnan(value):\n",
    "            measurement[index] = currentValue\n",
    "        else:\n",
    "            currentValue = value\n",
    "\n",
    "# Forward filling testing set\n",
    "for measurement in norm_test_data:\n",
    "    currentValue = 0\n",
    "    for index, value in enumerate(measurement):\n",
    "        if math.isnan(value):\n",
    "            measurement[index] = currentValue\n",
    "        else:\n",
    "            currentValue = value"
   ]
  },
  {
   "cell_type": "code",
   "execution_count": 11,
   "metadata": {},
   "outputs": [
    {
     "name": "stdout",
     "output_type": "stream",
     "text": [
      "90th Percentile of Length = 523\n",
      "Unifrom Train Data Sequence Shape = (5000, 523, 265)\n",
      "Train Labels Sequence Shape = (5000, 1)\n"
     ]
    }
   ],
   "source": [
    "# 1.6 \n",
    "# Find 90th Percentile of Length\n",
    "maxSeqLen = 0\n",
    "for limit in range(1, 1000):\n",
    "    localCounter = 0\n",
    "    for value in encounterStampMap.values():\n",
    "        if(value <= limit):\n",
    "            localCounter += 1\n",
    "    \n",
    "    if (localCounter/len(encounterStampMap)) == 0.9:\n",
    "        maxSeqLen = limit\n",
    "        print(\"90th Percentile of Length =\", maxSeqLen)\n",
    "        break\n",
    "\n",
    "train_data_Seq = np.zeros((len(encounterStampMap), maxSeqLen, norm_train_data[0].shape[0])) # (5000, 523, 265)\n",
    "train_labels_Seq = np.zeros((len(encounterStampMap), 1)) # (5000, 1) \n",
    "lowerIndex = 0\n",
    "upperIndex = 0\n",
    "for index, value in enumerate(encounterStampMap.values()): # Iterate through number of timestampes per ID\n",
    "    upperIndex = upperIndex + value\n",
    "    if(value <= maxSeqLen):\n",
    "        train_data_Seq[index][0:upperIndex-lowerIndex] = norm_train_data[lowerIndex:upperIndex]\n",
    "        train_labels_Seq[index] = train_labels.values[upperIndex-1][0]\n",
    "    if(value > maxSeqLen):\n",
    "        train_data_Seq[index] = norm_train_data[lowerIndex:lowerIndex+maxSeqLen]\n",
    "        train_labels_Seq[index] = train_labels.values[lowerIndex+maxSeqLen-1][0]\n",
    "    lowerIndex = lowerIndex + value\n",
    "    \n",
    "print(\"Unifrom Train Data Sequence Shape =\", train_data_Seq.shape)\n",
    "print(\"Train Labels Sequence Shape =\", train_labels_Seq.shape)"
   ]
  },
  {
   "cell_type": "code",
   "execution_count": 21,
   "metadata": {},
   "outputs": [
    {
     "name": "stdout",
     "output_type": "stream",
     "text": [
      "Model: \"sequential_7\"\n",
      "_________________________________________________________________\n",
      "Layer (type)                 Output Shape              Param #   \n",
      "=================================================================\n",
      "lstm_5 (LSTM)                (None, 128)               201728    \n",
      "_________________________________________________________________\n",
      "dense_8 (Dense)              (None, 1)                 129       \n",
      "=================================================================\n",
      "Total params: 201,857\n",
      "Trainable params: 201,857\n",
      "Non-trainable params: 0\n",
      "_________________________________________________________________\n"
     ]
    }
   ],
   "source": [
    "# 2.1 a\n",
    "# Model definition\n",
    "def build_model():\n",
    "    model = tf.keras.Sequential()\n",
    "    model.add(tf.keras.layers.LSTM(128, input_shape=(train_data_Seq.shape[1], train_data_Seq.shape[2])))\n",
    "    model.add(tf.keras.layers.Dense(1, activation='sigmoid'))\n",
    "    \n",
    "    model.compile(optimizer='rmsprop',\n",
    "                  loss='binary_crossentropy',\n",
    "                  metrics=['acc'])\n",
    "    return model\n",
    "\n",
    "# Build model\n",
    "model = build_model()\n",
    "\n",
    "# Summary of our model\n",
    "model.summary()"
   ]
  },
  {
   "cell_type": "code",
   "execution_count": 22,
   "metadata": {},
   "outputs": [
    {
     "name": "stdout",
     "output_type": "stream",
     "text": [
      "Train on 4000 samples, validate on 1000 samples\n",
      "Epoch 1/20\n",
      "4000/4000 [==============================] - 313s 78ms/sample - loss: 0.1960 - acc: 0.9457 - val_loss: 0.1884 - val_acc: 0.9550\n",
      "Epoch 2/20\n",
      "4000/4000 [==============================] - 272s 68ms/sample - loss: 0.1753 - acc: 0.9530 - val_loss: 0.1824 - val_acc: 0.9550\n",
      "Epoch 3/20\n",
      "4000/4000 [==============================] - 271s 68ms/sample - loss: 0.1739 - acc: 0.9542 - val_loss: 0.1794 - val_acc: 0.9550\n",
      "Epoch 4/20\n",
      "4000/4000 [==============================] - 272s 68ms/sample - loss: 0.1717 - acc: 0.9557 - val_loss: 0.1809 - val_acc: 0.9550\n",
      "Epoch 5/20\n",
      "4000/4000 [==============================] - 266s 67ms/sample - loss: 0.1733 - acc: 0.9557 - val_loss: 0.1784 - val_acc: 0.9550\n",
      "Epoch 6/20\n",
      "4000/4000 [==============================] - 280s 70ms/sample - loss: 0.1706 - acc: 0.9557 - val_loss: 0.1799 - val_acc: 0.9550\n",
      "Epoch 7/20\n",
      "4000/4000 [==============================] - 240s 60ms/sample - loss: 0.1740 - acc: 0.9550 - val_loss: 0.1796 - val_acc: 0.9550\n",
      "Epoch 8/20\n",
      "3296/4000 [=======================>......] - ETA: 38s - loss: 0.1671 - acc: 0.9565"
     ]
    },
    {
     "ename": "KeyboardInterrupt",
     "evalue": "",
     "output_type": "error",
     "traceback": [
      "\u001b[0;31m---------------------------------------------------------------------------\u001b[0m",
      "\u001b[0;31mKeyboardInterrupt\u001b[0m                         Traceback (most recent call last)",
      "\u001b[0;32m<ipython-input-22-0197f96e291d>\u001b[0m in \u001b[0;36m<module>\u001b[0;34m\u001b[0m\n\u001b[1;32m     10\u001b[0m history = model.fit(partial_train_data, partial_train_labels,\n\u001b[1;32m     11\u001b[0m                     \u001b[0mvalidation_data\u001b[0m\u001b[0;34m=\u001b[0m\u001b[0;34m(\u001b[0m\u001b[0mval_data\u001b[0m\u001b[0;34m,\u001b[0m \u001b[0mval_labels\u001b[0m\u001b[0;34m)\u001b[0m\u001b[0;34m,\u001b[0m\u001b[0;34m\u001b[0m\u001b[0;34m\u001b[0m\u001b[0m\n\u001b[0;32m---> 12\u001b[0;31m                     epochs=num_epochs, verbose = 1)\n\u001b[0m\u001b[1;32m     13\u001b[0m \u001b[0;34m\u001b[0m\u001b[0m\n\u001b[1;32m     14\u001b[0m \u001b[0;31m# Plotting Results\u001b[0m\u001b[0;34m\u001b[0m\u001b[0;34m\u001b[0m\u001b[0;34m\u001b[0m\u001b[0m\n",
      "\u001b[0;32m~/anaconda/envs/tf2-py3/lib/python3.7/site-packages/tensorflow_core/python/keras/engine/training.py\u001b[0m in \u001b[0;36mfit\u001b[0;34m(self, x, y, batch_size, epochs, verbose, callbacks, validation_split, validation_data, shuffle, class_weight, sample_weight, initial_epoch, steps_per_epoch, validation_steps, validation_freq, max_queue_size, workers, use_multiprocessing, **kwargs)\u001b[0m\n\u001b[1;32m    726\u001b[0m         \u001b[0mmax_queue_size\u001b[0m\u001b[0;34m=\u001b[0m\u001b[0mmax_queue_size\u001b[0m\u001b[0;34m,\u001b[0m\u001b[0;34m\u001b[0m\u001b[0;34m\u001b[0m\u001b[0m\n\u001b[1;32m    727\u001b[0m         \u001b[0mworkers\u001b[0m\u001b[0;34m=\u001b[0m\u001b[0mworkers\u001b[0m\u001b[0;34m,\u001b[0m\u001b[0;34m\u001b[0m\u001b[0;34m\u001b[0m\u001b[0m\n\u001b[0;32m--> 728\u001b[0;31m         use_multiprocessing=use_multiprocessing)\n\u001b[0m\u001b[1;32m    729\u001b[0m \u001b[0;34m\u001b[0m\u001b[0m\n\u001b[1;32m    730\u001b[0m   def evaluate(self,\n",
      "\u001b[0;32m~/anaconda/envs/tf2-py3/lib/python3.7/site-packages/tensorflow_core/python/keras/engine/training_v2.py\u001b[0m in \u001b[0;36mfit\u001b[0;34m(self, model, x, y, batch_size, epochs, verbose, callbacks, validation_split, validation_data, shuffle, class_weight, sample_weight, initial_epoch, steps_per_epoch, validation_steps, validation_freq, **kwargs)\u001b[0m\n\u001b[1;32m    322\u001b[0m                 \u001b[0mmode\u001b[0m\u001b[0;34m=\u001b[0m\u001b[0mModeKeys\u001b[0m\u001b[0;34m.\u001b[0m\u001b[0mTRAIN\u001b[0m\u001b[0;34m,\u001b[0m\u001b[0;34m\u001b[0m\u001b[0;34m\u001b[0m\u001b[0m\n\u001b[1;32m    323\u001b[0m                 \u001b[0mtraining_context\u001b[0m\u001b[0;34m=\u001b[0m\u001b[0mtraining_context\u001b[0m\u001b[0;34m,\u001b[0m\u001b[0;34m\u001b[0m\u001b[0;34m\u001b[0m\u001b[0m\n\u001b[0;32m--> 324\u001b[0;31m                 total_epochs=epochs)\n\u001b[0m\u001b[1;32m    325\u001b[0m             \u001b[0mcbks\u001b[0m\u001b[0;34m.\u001b[0m\u001b[0mmake_logs\u001b[0m\u001b[0;34m(\u001b[0m\u001b[0mmodel\u001b[0m\u001b[0;34m,\u001b[0m \u001b[0mepoch_logs\u001b[0m\u001b[0;34m,\u001b[0m \u001b[0mtraining_result\u001b[0m\u001b[0;34m,\u001b[0m \u001b[0mModeKeys\u001b[0m\u001b[0;34m.\u001b[0m\u001b[0mTRAIN\u001b[0m\u001b[0;34m)\u001b[0m\u001b[0;34m\u001b[0m\u001b[0;34m\u001b[0m\u001b[0m\n\u001b[1;32m    326\u001b[0m \u001b[0;34m\u001b[0m\u001b[0m\n",
      "\u001b[0;32m~/anaconda/envs/tf2-py3/lib/python3.7/site-packages/tensorflow_core/python/keras/engine/training_v2.py\u001b[0m in \u001b[0;36mrun_one_epoch\u001b[0;34m(model, iterator, execution_function, dataset_size, batch_size, strategy, steps_per_epoch, num_samples, mode, training_context, total_epochs)\u001b[0m\n\u001b[1;32m    121\u001b[0m         step=step, mode=mode, size=current_batch_size) as batch_logs:\n\u001b[1;32m    122\u001b[0m       \u001b[0;32mtry\u001b[0m\u001b[0;34m:\u001b[0m\u001b[0;34m\u001b[0m\u001b[0;34m\u001b[0m\u001b[0m\n\u001b[0;32m--> 123\u001b[0;31m         \u001b[0mbatch_outs\u001b[0m \u001b[0;34m=\u001b[0m \u001b[0mexecution_function\u001b[0m\u001b[0;34m(\u001b[0m\u001b[0miterator\u001b[0m\u001b[0;34m)\u001b[0m\u001b[0;34m\u001b[0m\u001b[0;34m\u001b[0m\u001b[0m\n\u001b[0m\u001b[1;32m    124\u001b[0m       \u001b[0;32mexcept\u001b[0m \u001b[0;34m(\u001b[0m\u001b[0mStopIteration\u001b[0m\u001b[0;34m,\u001b[0m \u001b[0merrors\u001b[0m\u001b[0;34m.\u001b[0m\u001b[0mOutOfRangeError\u001b[0m\u001b[0;34m)\u001b[0m\u001b[0;34m:\u001b[0m\u001b[0;34m\u001b[0m\u001b[0;34m\u001b[0m\u001b[0m\n\u001b[1;32m    125\u001b[0m         \u001b[0;31m# TODO(kaftan): File bug about tf function and errors.OutOfRangeError?\u001b[0m\u001b[0;34m\u001b[0m\u001b[0;34m\u001b[0m\u001b[0;34m\u001b[0m\u001b[0m\n",
      "\u001b[0;32m~/anaconda/envs/tf2-py3/lib/python3.7/site-packages/tensorflow_core/python/keras/engine/training_v2_utils.py\u001b[0m in \u001b[0;36mexecution_function\u001b[0;34m(input_fn)\u001b[0m\n\u001b[1;32m     84\u001b[0m     \u001b[0;31m# `numpy` translates Tensors to values in Eager mode.\u001b[0m\u001b[0;34m\u001b[0m\u001b[0;34m\u001b[0m\u001b[0;34m\u001b[0m\u001b[0m\n\u001b[1;32m     85\u001b[0m     return nest.map_structure(_non_none_constant_value,\n\u001b[0;32m---> 86\u001b[0;31m                               distributed_function(input_fn))\n\u001b[0m\u001b[1;32m     87\u001b[0m \u001b[0;34m\u001b[0m\u001b[0m\n\u001b[1;32m     88\u001b[0m   \u001b[0;32mreturn\u001b[0m \u001b[0mexecution_function\u001b[0m\u001b[0;34m\u001b[0m\u001b[0;34m\u001b[0m\u001b[0m\n",
      "\u001b[0;32m~/anaconda/envs/tf2-py3/lib/python3.7/site-packages/tensorflow_core/python/eager/def_function.py\u001b[0m in \u001b[0;36m__call__\u001b[0;34m(self, *args, **kwds)\u001b[0m\n\u001b[1;32m    455\u001b[0m \u001b[0;34m\u001b[0m\u001b[0m\n\u001b[1;32m    456\u001b[0m     \u001b[0mtracing_count\u001b[0m \u001b[0;34m=\u001b[0m \u001b[0mself\u001b[0m\u001b[0;34m.\u001b[0m\u001b[0m_get_tracing_count\u001b[0m\u001b[0;34m(\u001b[0m\u001b[0;34m)\u001b[0m\u001b[0;34m\u001b[0m\u001b[0;34m\u001b[0m\u001b[0m\n\u001b[0;32m--> 457\u001b[0;31m     \u001b[0mresult\u001b[0m \u001b[0;34m=\u001b[0m \u001b[0mself\u001b[0m\u001b[0;34m.\u001b[0m\u001b[0m_call\u001b[0m\u001b[0;34m(\u001b[0m\u001b[0;34m*\u001b[0m\u001b[0margs\u001b[0m\u001b[0;34m,\u001b[0m \u001b[0;34m**\u001b[0m\u001b[0mkwds\u001b[0m\u001b[0;34m)\u001b[0m\u001b[0;34m\u001b[0m\u001b[0;34m\u001b[0m\u001b[0m\n\u001b[0m\u001b[1;32m    458\u001b[0m     \u001b[0;32mif\u001b[0m \u001b[0mtracing_count\u001b[0m \u001b[0;34m==\u001b[0m \u001b[0mself\u001b[0m\u001b[0;34m.\u001b[0m\u001b[0m_get_tracing_count\u001b[0m\u001b[0;34m(\u001b[0m\u001b[0;34m)\u001b[0m\u001b[0;34m:\u001b[0m\u001b[0;34m\u001b[0m\u001b[0;34m\u001b[0m\u001b[0m\n\u001b[1;32m    459\u001b[0m       \u001b[0mself\u001b[0m\u001b[0;34m.\u001b[0m\u001b[0m_call_counter\u001b[0m\u001b[0;34m.\u001b[0m\u001b[0mcalled_without_tracing\u001b[0m\u001b[0;34m(\u001b[0m\u001b[0;34m)\u001b[0m\u001b[0;34m\u001b[0m\u001b[0;34m\u001b[0m\u001b[0m\n",
      "\u001b[0;32m~/anaconda/envs/tf2-py3/lib/python3.7/site-packages/tensorflow_core/python/eager/def_function.py\u001b[0m in \u001b[0;36m_call\u001b[0;34m(self, *args, **kwds)\u001b[0m\n\u001b[1;32m    485\u001b[0m       \u001b[0;31m# In this case we have created variables on the first call, so we run the\u001b[0m\u001b[0;34m\u001b[0m\u001b[0;34m\u001b[0m\u001b[0;34m\u001b[0m\u001b[0m\n\u001b[1;32m    486\u001b[0m       \u001b[0;31m# defunned version which is guaranteed to never create variables.\u001b[0m\u001b[0;34m\u001b[0m\u001b[0;34m\u001b[0m\u001b[0;34m\u001b[0m\u001b[0m\n\u001b[0;32m--> 487\u001b[0;31m       \u001b[0;32mreturn\u001b[0m \u001b[0mself\u001b[0m\u001b[0;34m.\u001b[0m\u001b[0m_stateless_fn\u001b[0m\u001b[0;34m(\u001b[0m\u001b[0;34m*\u001b[0m\u001b[0margs\u001b[0m\u001b[0;34m,\u001b[0m \u001b[0;34m**\u001b[0m\u001b[0mkwds\u001b[0m\u001b[0;34m)\u001b[0m  \u001b[0;31m# pylint: disable=not-callable\u001b[0m\u001b[0;34m\u001b[0m\u001b[0;34m\u001b[0m\u001b[0m\n\u001b[0m\u001b[1;32m    488\u001b[0m     \u001b[0;32melif\u001b[0m \u001b[0mself\u001b[0m\u001b[0;34m.\u001b[0m\u001b[0m_stateful_fn\u001b[0m \u001b[0;32mis\u001b[0m \u001b[0;32mnot\u001b[0m \u001b[0;32mNone\u001b[0m\u001b[0;34m:\u001b[0m\u001b[0;34m\u001b[0m\u001b[0;34m\u001b[0m\u001b[0m\n\u001b[1;32m    489\u001b[0m       \u001b[0;31m# Release the lock early so that multiple threads can perform the call\u001b[0m\u001b[0;34m\u001b[0m\u001b[0;34m\u001b[0m\u001b[0;34m\u001b[0m\u001b[0m\n",
      "\u001b[0;32m~/anaconda/envs/tf2-py3/lib/python3.7/site-packages/tensorflow_core/python/eager/function.py\u001b[0m in \u001b[0;36m__call__\u001b[0;34m(self, *args, **kwargs)\u001b[0m\n\u001b[1;32m   1821\u001b[0m     \u001b[0;34m\"\"\"Calls a graph function specialized to the inputs.\"\"\"\u001b[0m\u001b[0;34m\u001b[0m\u001b[0;34m\u001b[0m\u001b[0m\n\u001b[1;32m   1822\u001b[0m     \u001b[0mgraph_function\u001b[0m\u001b[0;34m,\u001b[0m \u001b[0margs\u001b[0m\u001b[0;34m,\u001b[0m \u001b[0mkwargs\u001b[0m \u001b[0;34m=\u001b[0m \u001b[0mself\u001b[0m\u001b[0;34m.\u001b[0m\u001b[0m_maybe_define_function\u001b[0m\u001b[0;34m(\u001b[0m\u001b[0margs\u001b[0m\u001b[0;34m,\u001b[0m \u001b[0mkwargs\u001b[0m\u001b[0;34m)\u001b[0m\u001b[0;34m\u001b[0m\u001b[0;34m\u001b[0m\u001b[0m\n\u001b[0;32m-> 1823\u001b[0;31m     \u001b[0;32mreturn\u001b[0m \u001b[0mgraph_function\u001b[0m\u001b[0;34m.\u001b[0m\u001b[0m_filtered_call\u001b[0m\u001b[0;34m(\u001b[0m\u001b[0margs\u001b[0m\u001b[0;34m,\u001b[0m \u001b[0mkwargs\u001b[0m\u001b[0;34m)\u001b[0m  \u001b[0;31m# pylint: disable=protected-access\u001b[0m\u001b[0;34m\u001b[0m\u001b[0;34m\u001b[0m\u001b[0m\n\u001b[0m\u001b[1;32m   1824\u001b[0m \u001b[0;34m\u001b[0m\u001b[0m\n\u001b[1;32m   1825\u001b[0m   \u001b[0;34m@\u001b[0m\u001b[0mproperty\u001b[0m\u001b[0;34m\u001b[0m\u001b[0;34m\u001b[0m\u001b[0m\n",
      "\u001b[0;32m~/anaconda/envs/tf2-py3/lib/python3.7/site-packages/tensorflow_core/python/eager/function.py\u001b[0m in \u001b[0;36m_filtered_call\u001b[0;34m(self, args, kwargs)\u001b[0m\n\u001b[1;32m   1139\u001b[0m          if isinstance(t, (ops.Tensor,\n\u001b[1;32m   1140\u001b[0m                            resource_variable_ops.BaseResourceVariable))),\n\u001b[0;32m-> 1141\u001b[0;31m         self.captured_inputs)\n\u001b[0m\u001b[1;32m   1142\u001b[0m \u001b[0;34m\u001b[0m\u001b[0m\n\u001b[1;32m   1143\u001b[0m   \u001b[0;32mdef\u001b[0m \u001b[0m_call_flat\u001b[0m\u001b[0;34m(\u001b[0m\u001b[0mself\u001b[0m\u001b[0;34m,\u001b[0m \u001b[0margs\u001b[0m\u001b[0;34m,\u001b[0m \u001b[0mcaptured_inputs\u001b[0m\u001b[0;34m,\u001b[0m \u001b[0mcancellation_manager\u001b[0m\u001b[0;34m=\u001b[0m\u001b[0;32mNone\u001b[0m\u001b[0;34m)\u001b[0m\u001b[0;34m:\u001b[0m\u001b[0;34m\u001b[0m\u001b[0;34m\u001b[0m\u001b[0m\n",
      "\u001b[0;32m~/anaconda/envs/tf2-py3/lib/python3.7/site-packages/tensorflow_core/python/eager/function.py\u001b[0m in \u001b[0;36m_call_flat\u001b[0;34m(self, args, captured_inputs, cancellation_manager)\u001b[0m\n\u001b[1;32m   1222\u001b[0m     \u001b[0;32mif\u001b[0m \u001b[0mexecuting_eagerly\u001b[0m\u001b[0;34m:\u001b[0m\u001b[0;34m\u001b[0m\u001b[0;34m\u001b[0m\u001b[0m\n\u001b[1;32m   1223\u001b[0m       flat_outputs = forward_function.call(\n\u001b[0;32m-> 1224\u001b[0;31m           ctx, args, cancellation_manager=cancellation_manager)\n\u001b[0m\u001b[1;32m   1225\u001b[0m     \u001b[0;32melse\u001b[0m\u001b[0;34m:\u001b[0m\u001b[0;34m\u001b[0m\u001b[0;34m\u001b[0m\u001b[0m\n\u001b[1;32m   1226\u001b[0m       \u001b[0mgradient_name\u001b[0m \u001b[0;34m=\u001b[0m \u001b[0mself\u001b[0m\u001b[0;34m.\u001b[0m\u001b[0m_delayed_rewrite_functions\u001b[0m\u001b[0;34m.\u001b[0m\u001b[0mregister\u001b[0m\u001b[0;34m(\u001b[0m\u001b[0;34m)\u001b[0m\u001b[0;34m\u001b[0m\u001b[0;34m\u001b[0m\u001b[0m\n",
      "\u001b[0;32m~/anaconda/envs/tf2-py3/lib/python3.7/site-packages/tensorflow_core/python/eager/function.py\u001b[0m in \u001b[0;36mcall\u001b[0;34m(self, ctx, args, cancellation_manager)\u001b[0m\n\u001b[1;32m    509\u001b[0m               \u001b[0minputs\u001b[0m\u001b[0;34m=\u001b[0m\u001b[0margs\u001b[0m\u001b[0;34m,\u001b[0m\u001b[0;34m\u001b[0m\u001b[0;34m\u001b[0m\u001b[0m\n\u001b[1;32m    510\u001b[0m               \u001b[0mattrs\u001b[0m\u001b[0;34m=\u001b[0m\u001b[0;34m(\u001b[0m\u001b[0;34m\"executor_type\"\u001b[0m\u001b[0;34m,\u001b[0m \u001b[0mexecutor_type\u001b[0m\u001b[0;34m,\u001b[0m \u001b[0;34m\"config_proto\"\u001b[0m\u001b[0;34m,\u001b[0m \u001b[0mconfig\u001b[0m\u001b[0;34m)\u001b[0m\u001b[0;34m,\u001b[0m\u001b[0;34m\u001b[0m\u001b[0;34m\u001b[0m\u001b[0m\n\u001b[0;32m--> 511\u001b[0;31m               ctx=ctx)\n\u001b[0m\u001b[1;32m    512\u001b[0m         \u001b[0;32melse\u001b[0m\u001b[0;34m:\u001b[0m\u001b[0;34m\u001b[0m\u001b[0;34m\u001b[0m\u001b[0m\n\u001b[1;32m    513\u001b[0m           outputs = execute.execute_with_cancellation(\n",
      "\u001b[0;32m~/anaconda/envs/tf2-py3/lib/python3.7/site-packages/tensorflow_core/python/eager/execute.py\u001b[0m in \u001b[0;36mquick_execute\u001b[0;34m(op_name, num_outputs, inputs, attrs, ctx, name)\u001b[0m\n\u001b[1;32m     59\u001b[0m     tensors = pywrap_tensorflow.TFE_Py_Execute(ctx._handle, device_name,\n\u001b[1;32m     60\u001b[0m                                                \u001b[0mop_name\u001b[0m\u001b[0;34m,\u001b[0m \u001b[0minputs\u001b[0m\u001b[0;34m,\u001b[0m \u001b[0mattrs\u001b[0m\u001b[0;34m,\u001b[0m\u001b[0;34m\u001b[0m\u001b[0;34m\u001b[0m\u001b[0m\n\u001b[0;32m---> 61\u001b[0;31m                                                num_outputs)\n\u001b[0m\u001b[1;32m     62\u001b[0m   \u001b[0;32mexcept\u001b[0m \u001b[0mcore\u001b[0m\u001b[0;34m.\u001b[0m\u001b[0m_NotOkStatusException\u001b[0m \u001b[0;32mas\u001b[0m \u001b[0me\u001b[0m\u001b[0;34m:\u001b[0m\u001b[0;34m\u001b[0m\u001b[0;34m\u001b[0m\u001b[0m\n\u001b[1;32m     63\u001b[0m     \u001b[0;32mif\u001b[0m \u001b[0mname\u001b[0m \u001b[0;32mis\u001b[0m \u001b[0;32mnot\u001b[0m \u001b[0;32mNone\u001b[0m\u001b[0;34m:\u001b[0m\u001b[0;34m\u001b[0m\u001b[0;34m\u001b[0m\u001b[0m\n",
      "\u001b[0;31mKeyboardInterrupt\u001b[0m: "
     ]
    }
   ],
   "source": [
    "# 2.1 b\n",
    "# Train Model\n",
    "\n",
    "# Get random training and validating data (4:1)\n",
    "partial_train_data, val_data, partial_train_labels, val_labels = train_test_split(train_data_Seq, \n",
    "                                                                                  train_labels_Seq, \n",
    "                                                                                  test_size=0.2)\n",
    "\n",
    "# Fit model\n",
    "num_epochs = 10\n",
    "history = model.fit(partial_train_data, partial_train_labels,\n",
    "                    validation_data=(val_data, val_labels),\n",
    "                    epochs=num_epochs, verbose = 1)\n",
    "\n",
    "# Plotting Results\n",
    "train_loss = history.history['loss']\n",
    "val_loss = history.history['val_loss']\n",
    "train_accuracy = history.history['accuracy']\n",
    "val_accuracy = history.history['val_accuracy']\n",
    "\n",
    "fig = plt.figure(figsize=(20, 5))\n",
    "fig.add_subplot(1, 2, 1)\n",
    "plt.plot(train_loss, label='Training Loss')\n",
    "plt.plot(val_loss, label = 'Validation Loss')\n",
    "plt.xlabel('Epoch')\n",
    "plt.ylabel('Loss')\n",
    "plt.legend(loc='upper right')\n",
    "fig.add_subplot(1, 2, 2)\n",
    "plt.plot(train_accuracy, label='Training Accuracy')\n",
    "plt.plot(val_accuracy, label = 'Validation Accuracy')\n",
    "plt.xlabel('Epoch')\n",
    "plt.ylabel('Accuracy')\n",
    "plt.legend(loc='lower right')"
   ]
  },
  {
   "cell_type": "code",
   "execution_count": 16,
   "metadata": {},
   "outputs": [],
   "source": [
    "##### IGNORE #####\n",
    "\n",
    "# # 1.5 (VERTICAL FORWARD FILL)\n",
    "# timestampCountList = list()\n",
    "# for key in encounterStampMap:\n",
    "#     timestampCountList.append(encounterStampMap[key])\n",
    "\n",
    "# currentValue = np.zeros(norm_train_data[0].shape)\n",
    "# timestampTracker = 0\n",
    "# encounterIDTracker = 0\n",
    "# # Forward filling training set\n",
    "# for measurement in norm_train_data:\n",
    "#     if(timestampTracker == timestampCountList[encounterIDTracker]):\n",
    "#         currentValue = np.zeros(norm_train_data[0].shape)\n",
    "#         timestampTracker = 0\n",
    "#         encounterIDTracker += 1\n",
    "        \n",
    "#     for index, value in enumerate(measurement):\n",
    "#         if math.isnan(value):\n",
    "#             measurement[index] = currentValue[index]\n",
    "#         else:\n",
    "#             currentValue[index] = value\n",
    "            \n",
    "#     timestampTracker += 1\n",
    "\n",
    "# currentValue = np.zeros(norm_train_data[0].shape)\n",
    "# timestampTracker = 0\n",
    "# encounterIDTracker = 0\n",
    "# # Forward filling testing set\n",
    "# for measurement in norm_test_data:\n",
    "#     if(timestampTracker == timestampCountList[encounterIDTracker]):\n",
    "#         currentValue = np.zeros(norm_train_data[0].shape)\n",
    "#         timestampTracker = 0\n",
    "#         encounterIDTracker += 1\n",
    "        \n",
    "#     for index, value in enumerate(measurement):\n",
    "#         if math.isnan(value):\n",
    "#             measurement[index] = currentValue[index]\n",
    "#         else:\n",
    "#             currentValue[index] = value\n",
    "            \n",
    "#     timestampTracker += 1"
   ]
  },
  {
   "cell_type": "code",
   "execution_count": null,
   "metadata": {},
   "outputs": [],
   "source": []
  }
 ],
 "metadata": {
  "kernelspec": {
   "display_name": "Python 3",
   "language": "python",
   "name": "python3"
  },
  "language_info": {
   "codemirror_mode": {
    "name": "ipython",
    "version": 3
   },
   "file_extension": ".py",
   "mimetype": "text/x-python",
   "name": "python",
   "nbconvert_exporter": "python",
   "pygments_lexer": "ipython3",
   "version": "3.7.7"
  }
 },
 "nbformat": 4,
 "nbformat_minor": 4
}
